{
 "cells": [
  {
   "cell_type": "code",
   "execution_count": 3,
   "metadata": {},
   "outputs": [],
   "source": [
    "import pandas as pd #Pandas library\n",
    "import numpy as np # NumPy library\n",
    "import sklearn\n",
    "from sklearn.feature_extraction.text import TfidfTransformer\n",
    "#from the module sklearn.feature_extraction.text import the class TfidfTransformer\n",
    "from sklearn.feature_extraction.text import CountVectorizer\n",
    "#from the module sklearn.feature_extraction.text import the class CountVectorizer"
   ]
  },
  {
   "cell_type": "code",
   "execution_count": 1,
   "metadata": {},
   "outputs": [],
   "source": [
    "corpus = ['The cats eat fish',\n",
    "'Leo catches fish every day',\n",
    "'Once a day I eat fish'\n",
    "]"
   ]
  },
  {
   "cell_type": "code",
   "execution_count": 13,
   "metadata": {},
   "outputs": [],
   "source": [
    "cv=CountVectorizer() #create the object cv to create an instance of the class CountVectorizer\n",
    "word_count_vector=cv.fit_transform(corpus) # calculate word counts in corpus using the .fit_transform ( ) method\n",
    "tokens = cv.get_feature_names() #return a list of feature names sorted by their indices using .get_feature_names_out ( ) method"
   ]
  },
  {
   "cell_type": "code",
   "execution_count": 14,
   "metadata": {},
   "outputs": [
    {
     "name": "stdout",
     "output_type": "stream",
     "text": [
      "(3, 9)\n",
      "['catches', 'cats', 'day', 'eat', 'every', 'fish', 'leo', 'once', 'the']\n",
      "9\n",
      "[[0 1 0 1 0 1 0 0 1]\n",
      " [1 0 1 0 1 1 1 0 0]\n",
      " [0 0 1 1 0 1 0 1 0]]\n"
     ]
    }
   ],
   "source": [
    "print(word_count_vector.shape) #print the shape of the matrix (rows and columns)\n",
    "print(tokens)\n",
    "print(len(tokens))\n",
    "print(word_count_vector.toarray()) #return an array method .toarray( )"
   ]
  }
 ],
 "metadata": {
  "kernelspec": {
   "display_name": "base",
   "language": "python",
   "name": "python3"
  },
  "language_info": {
   "codemirror_mode": {
    "name": "ipython",
    "version": 3
   },
   "file_extension": ".py",
   "mimetype": "text/x-python",
   "name": "python",
   "nbconvert_exporter": "python",
   "pygments_lexer": "ipython3",
   "version": "3.9.7"
  }
 },
 "nbformat": 4,
 "nbformat_minor": 2
}
