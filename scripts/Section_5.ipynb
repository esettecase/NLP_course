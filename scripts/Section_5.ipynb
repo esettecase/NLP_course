{
 "cells": [
  {
   "cell_type": "code",
   "execution_count": 3,
   "metadata": {},
   "outputs": [],
   "source": [
    "import pandas as pd #Pandas library\n",
    "import numpy as np # NumPy library\n",
    "import sklearn\n",
    "from sklearn.feature_extraction.text import TfidfTransformer\n",
    "#from the module sklearn.feature_extraction.text import the class TfidfTransformer\n",
    "from sklearn.feature_extraction.text import CountVectorizer\n",
    "#from the module sklearn.feature_extraction.text import the class CountVectorizer"
   ]
  },
  {
   "cell_type": "code",
   "execution_count": 1,
   "metadata": {},
   "outputs": [],
   "source": [
    "corpus = ['The cats eat fish',\n",
    "'Leo catches fish every day',\n",
    "'Once a day I eat fish'\n",
    "]"
   ]
  },
  {
   "cell_type": "code",
   "execution_count": 13,
   "metadata": {},
   "outputs": [],
   "source": [
    "cv=CountVectorizer() #create the object cv to create an instance of the class CountVectorizer\n",
    "word_count_vector=cv.fit_transform(corpus) # calculate word counts in corpus using the .fit_transform ( ) method\n",
    "tokens = cv.get_feature_names() #return a list of feature names sorted by their indices using .get_feature_names_out ( ) method"
   ]
  },
  {
   "cell_type": "code",
   "execution_count": 14,
   "metadata": {},
   "outputs": [
    {
     "name": "stdout",
     "output_type": "stream",
     "text": [
      "(3, 9)\n",
      "['catches', 'cats', 'day', 'eat', 'every', 'fish', 'leo', 'once', 'the']\n",
      "9\n",
      "[[0 1 0 1 0 1 0 0 1]\n",
      " [1 0 1 0 1 1 1 0 0]\n",
      " [0 0 1 1 0 1 0 1 0]]\n"
     ]
    }
   ],
   "source": [
    "print(word_count_vector.shape) #print the shape of the matrix (rows and columns)\n",
    "print(tokens)\n",
    "print(len(tokens))\n",
    "print(word_count_vector.toarray()) #return an array method .toarray( )"
   ]
  },
  {
   "cell_type": "code",
   "execution_count": 15,
   "metadata": {},
   "outputs": [],
   "source": [
    "doc_names = ['Doc{:d}'.format(index) for index, _ in enumerate(word_count_vector)]\n",
    "#return the iterable object word_count_vector as an enumerate object with the enumerate() function\n",
    "#for loop: iterate over the enumerate object word_count_vector\n",
    "#format the specified values (index) and insert them inside the placeholder { }\n",
    "#Doc = (doc0, doc1, doc2)\n",
    "#{:d}: format code expecting integers (= word counts)"
   ]
  },
  {
   "cell_type": "code",
   "execution_count": 16,
   "metadata": {},
   "outputs": [
    {
     "data": {
      "text/html": [
       "<div>\n",
       "<style scoped>\n",
       "    .dataframe tbody tr th:only-of-type {\n",
       "        vertical-align: middle;\n",
       "    }\n",
       "\n",
       "    .dataframe tbody tr th {\n",
       "        vertical-align: top;\n",
       "    }\n",
       "\n",
       "    .dataframe thead th {\n",
       "        text-align: right;\n",
       "    }\n",
       "</style>\n",
       "<table border=\"1\" class=\"dataframe\">\n",
       "  <thead>\n",
       "    <tr style=\"text-align: right;\">\n",
       "      <th></th>\n",
       "      <th>catches</th>\n",
       "      <th>cats</th>\n",
       "      <th>day</th>\n",
       "      <th>eat</th>\n",
       "      <th>every</th>\n",
       "      <th>fish</th>\n",
       "      <th>leo</th>\n",
       "      <th>once</th>\n",
       "      <th>the</th>\n",
       "    </tr>\n",
       "  </thead>\n",
       "  <tbody>\n",
       "    <tr>\n",
       "      <th>Doc0</th>\n",
       "      <td>0</td>\n",
       "      <td>1</td>\n",
       "      <td>0</td>\n",
       "      <td>1</td>\n",
       "      <td>0</td>\n",
       "      <td>1</td>\n",
       "      <td>0</td>\n",
       "      <td>0</td>\n",
       "      <td>1</td>\n",
       "    </tr>\n",
       "    <tr>\n",
       "      <th>Doc1</th>\n",
       "      <td>1</td>\n",
       "      <td>0</td>\n",
       "      <td>1</td>\n",
       "      <td>0</td>\n",
       "      <td>1</td>\n",
       "      <td>1</td>\n",
       "      <td>1</td>\n",
       "      <td>0</td>\n",
       "      <td>0</td>\n",
       "    </tr>\n",
       "    <tr>\n",
       "      <th>Doc2</th>\n",
       "      <td>0</td>\n",
       "      <td>0</td>\n",
       "      <td>1</td>\n",
       "      <td>1</td>\n",
       "      <td>0</td>\n",
       "      <td>1</td>\n",
       "      <td>0</td>\n",
       "      <td>1</td>\n",
       "      <td>0</td>\n",
       "    </tr>\n",
       "  </tbody>\n",
       "</table>\n",
       "</div>"
      ],
      "text/plain": [
       "      catches  cats  day  eat  every  fish  leo  once  the\n",
       "Doc0        0     1    0    1      0     1    0     0    1\n",
       "Doc1        1     0    1    0      1     1    1     0    0\n",
       "Doc2        0     0    1    1      0     1    0     1    0"
      ]
     },
     "execution_count": 16,
     "metadata": {},
     "output_type": "execute_result"
    }
   ],
   "source": [
    "df = pd.DataFrame(data=word_count_vector.toarray(), index=doc_names, columns=tokens) # create the data frame\n",
    "df"
   ]
  },
  {
   "cell_type": "markdown",
   "metadata": {},
   "source": [
    "### Calculate term frequency"
   ]
  },
  {
   "cell_type": "code",
   "execution_count": 18,
   "metadata": {},
   "outputs": [
    {
     "data": {
      "text/html": [
       "<div>\n",
       "<style scoped>\n",
       "    .dataframe tbody tr th:only-of-type {\n",
       "        vertical-align: middle;\n",
       "    }\n",
       "\n",
       "    .dataframe tbody tr th {\n",
       "        vertical-align: top;\n",
       "    }\n",
       "\n",
       "    .dataframe thead th {\n",
       "        text-align: right;\n",
       "    }\n",
       "</style>\n",
       "<table border=\"1\" class=\"dataframe\">\n",
       "  <thead>\n",
       "    <tr style=\"text-align: right;\">\n",
       "      <th></th>\n",
       "      <th>catches</th>\n",
       "      <th>cats</th>\n",
       "      <th>day</th>\n",
       "      <th>eat</th>\n",
       "      <th>every</th>\n",
       "      <th>fish</th>\n",
       "      <th>leo</th>\n",
       "      <th>once</th>\n",
       "      <th>the</th>\n",
       "    </tr>\n",
       "  </thead>\n",
       "  <tbody>\n",
       "    <tr>\n",
       "      <th>Doc0</th>\n",
       "      <td>0.0</td>\n",
       "      <td>0.25</td>\n",
       "      <td>0.00</td>\n",
       "      <td>0.25</td>\n",
       "      <td>0.0</td>\n",
       "      <td>0.25</td>\n",
       "      <td>0.0</td>\n",
       "      <td>0.00</td>\n",
       "      <td>0.25</td>\n",
       "    </tr>\n",
       "    <tr>\n",
       "      <th>Doc1</th>\n",
       "      <td>0.2</td>\n",
       "      <td>0.00</td>\n",
       "      <td>0.20</td>\n",
       "      <td>0.00</td>\n",
       "      <td>0.2</td>\n",
       "      <td>0.20</td>\n",
       "      <td>0.2</td>\n",
       "      <td>0.00</td>\n",
       "      <td>0.00</td>\n",
       "    </tr>\n",
       "    <tr>\n",
       "      <th>Doc2</th>\n",
       "      <td>0.0</td>\n",
       "      <td>0.00</td>\n",
       "      <td>0.25</td>\n",
       "      <td>0.25</td>\n",
       "      <td>0.0</td>\n",
       "      <td>0.25</td>\n",
       "      <td>0.0</td>\n",
       "      <td>0.25</td>\n",
       "      <td>0.00</td>\n",
       "    </tr>\n",
       "  </tbody>\n",
       "</table>\n",
       "</div>"
      ],
      "text/plain": [
       "      catches  cats   day   eat  every  fish  leo  once   the\n",
       "Doc0      0.0  0.25  0.00  0.25    0.0  0.25  0.0  0.00  0.25\n",
       "Doc1      0.2  0.00  0.20  0.00    0.2  0.20  0.2  0.00  0.00\n",
       "Doc2      0.0  0.00  0.25  0.25    0.0  0.25  0.0  0.25  0.00"
      ]
     },
     "execution_count": 18,
     "metadata": {},
     "output_type": "execute_result"
    }
   ],
   "source": [
    "from sklearn.feature_extraction.text import TfidfVectorizer\n",
    "# from the module sklearn.feature_extraction.text import the class TfidfVectorizer\n",
    "tfidf_vectorizer = TfidfVectorizer(use_idf=False, norm='l1')\n",
    "# create the object tfidf_vectorizer to create an instance of the class TfidfVectorizer\n",
    "#sum of absolute values of vector elements is 1\n",
    "X = tfidf_vectorizer.fit_transform(corpus) # call the method .fit_transform( ) on the object tfidf_vectorizer and pass corpus to the function\n",
    "df = pd.DataFrame(X.toarray(), index=doc_names, columns=tfidf_vectorizer.get_feature_names())\n",
    "# create the data frame\n",
    "df"
   ]
  }
 ],
 "metadata": {
  "kernelspec": {
   "display_name": "base",
   "language": "python",
   "name": "python3"
  },
  "language_info": {
   "codemirror_mode": {
    "name": "ipython",
    "version": 3
   },
   "file_extension": ".py",
   "mimetype": "text/x-python",
   "name": "python",
   "nbconvert_exporter": "python",
   "pygments_lexer": "ipython3",
   "version": "3.9.7"
  }
 },
 "nbformat": 4,
 "nbformat_minor": 2
}
