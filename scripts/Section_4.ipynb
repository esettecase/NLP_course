{
 "cells": [
  {
   "cell_type": "code",
   "execution_count": 6,
   "metadata": {},
   "outputs": [],
   "source": [
    "import nltk\n",
    "from nltk.stem.porter import PorterStemmer\n",
    "# from the module nltk.stem.porter import the class PorterStemmer\n",
    "\n",
    "from nltk.tokenize import word_tokenize"
   ]
  },
  {
   "cell_type": "code",
   "execution_count": 2,
   "metadata": {},
   "outputs": [
    {
     "data": {
      "text/plain": [
       "'activ'"
      ]
     },
     "execution_count": 2,
     "metadata": {},
     "output_type": "execute_result"
    }
   ],
   "source": [
    "stemmer = PorterStemmer() #create an instance of the class PorterStemmer\n",
    "stemmer.stem('active') # call the .stem() method on the object stemmer to stem the word active 14"
   ]
  },
  {
   "cell_type": "code",
   "execution_count": 4,
   "metadata": {},
   "outputs": [],
   "source": [
    "text = 'People might not realise they are part of the disposable clothing problem because they donate their unwanted clothes to charities.'"
   ]
  },
  {
   "cell_type": "code",
   "execution_count": 7,
   "metadata": {},
   "outputs": [
    {
     "name": "stdout",
     "output_type": "stream",
     "text": [
      "['People', 'might', 'not', 'realise', 'they', 'are', 'part', 'of', 'the', 'disposable', 'clothing', 'problem', 'because', 'they', 'donate', 'their', 'unwanted', 'clothes', 'to', 'charities', '.']\n"
     ]
    }
   ],
   "source": [
    "t2 = word_tokenize(text)\n",
    "print(t2)"
   ]
  },
  {
   "cell_type": "code",
   "execution_count": 10,
   "metadata": {},
   "outputs": [
    {
     "name": "stdout",
     "output_type": "stream",
     "text": [
      "peopl\n",
      "might\n",
      "not\n",
      "realis\n",
      "they\n",
      "are\n",
      "part\n",
      "of\n",
      "the\n",
      "dispos\n",
      "cloth\n",
      "problem\n",
      "becaus\n",
      "they\n",
      "donat\n",
      "their\n",
      "unwant\n",
      "cloth\n",
      "to\n",
      "chariti\n",
      ".\n"
     ]
    }
   ],
   "source": [
    "for word in t2: # iterate over the sequence of the words in the list\n",
    "    print(stemmer.stem(word)) # call the .stem ( ) method on the object stemmer to stem the list of words"
   ]
  },
  {
   "cell_type": "code",
   "execution_count": null,
   "metadata": {},
   "outputs": [],
   "source": []
  }
 ],
 "metadata": {
  "kernelspec": {
   "display_name": "base",
   "language": "python",
   "name": "python3"
  },
  "language_info": {
   "codemirror_mode": {
    "name": "ipython",
    "version": 3
   },
   "file_extension": ".py",
   "mimetype": "text/x-python",
   "name": "python",
   "nbconvert_exporter": "python",
   "pygments_lexer": "ipython3",
   "version": "3.9.7"
  }
 },
 "nbformat": 4,
 "nbformat_minor": 2
}
